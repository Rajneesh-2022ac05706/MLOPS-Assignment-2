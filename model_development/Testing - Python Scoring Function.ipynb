{
 "cells": [
  {
   "cell_type": "code",
   "execution_count": 5,
   "id": "9678e715",
   "metadata": {},
   "outputs": [],
   "source": [
    "import joblib\n",
    "import pickle\n",
    "import numpy as np\n",
    "\n",
    "\n",
    "xgboost_model = joblib.load('../model_artifacts/xgboost_v1.joblib')\n",
    "\n",
    "with open('../model_artifacts/categorical_column_unique_values.pkl', 'rb') as f:\n",
    "    categorical_column_unique_values = pickle.load(f)\n",
    "label_encoders = {\"workclass\":joblib.load(\"../model_artifacts/label_encoder_workclass.joblib\"),\n",
    "                  \"education_num\": joblib.load(\"../model_artifacts/label_encoder_education_num.joblib\"),\n",
    "                  \"marital_status\":joblib.load(\"../model_artifacts/label_encoder_marital_status.joblib\"),\n",
    "                  \"occupation\":joblib.load(\"../model_artifacts/label_encoder_occupation.joblib\"), \n",
    "                  \"relationship\":joblib.load(\"../model_artifacts/label_encoder_relationship.joblib\"),\n",
    "                  \"asset_code\":joblib.load(\"../model_artifacts/label_encoder_asset_code.joblib\")}\n",
    "\n",
    "\n",
    "def process_input_data(json_list):\n",
    "    \"\"\"\n",
    "    Processes a list of JSON objects to apply label encoding and prepare for prediction.\n",
    "    \"\"\"\n",
    "    processed_data = []\n",
    "    for input_data in json_list:\n",
    "        prepared_data = []\n",
    "        for feature in xgboost_model.get_booster().feature_names:\n",
    "            if feature in [\"capital_gain_is_zero\",\"capital_loss_is_Zero\"]:\n",
    "                feature=feature.replace(\"_is_zero\",\"\").replace(\"_is_Zero\",\"\")\n",
    "            else:\n",
    "                feature = feature.replace(\"_label_encoded\",\"\")\n",
    "            if feature not in input_data:\n",
    "                raise AssertionError(f\"Expected feature {feature}, but it was not provided.\")\n",
    "            if feature in label_encoders:\n",
    "                encoder = label_encoders[feature]\n",
    "                if feature in label_encoders: \n",
    "                    if input_data[feature] not in categorical_column_unique_values[feature]:\n",
    "                        raise AssertionError(f\"The given feature value does not match with expected values for feat: {feature}\")\n",
    "                prepared_data.append(encoder.transform([input_data[feature]])[0])\n",
    "            elif feature in [\"capital_gain\",\"capital_loss\"]:\n",
    "                val = 1 if input_data[feature] > 0 else 0 \n",
    "                prepared_data.append(val)\n",
    "            else:\n",
    "                prepared_data.append(input_data[feature])\n",
    "        processed_data.append(prepared_data)\n",
    "    return np.array(processed_data)\n",
    "\n",
    "def predict(json_list):\n",
    "    \"\"\"\n",
    "    Predicts the output for a batch of input JSON objects using the loaded XGBoost model.\n",
    "    \"\"\"\n",
    "    processed_data = process_input_data(json_list)\n",
    "    predictions = xgboost_model.predict_proba(processed_data)\n",
    "    return [i[1] for i in predictions]"
   ]
  },
  {
   "cell_type": "code",
   "execution_count": 6,
   "id": "b32afa40",
   "metadata": {},
   "outputs": [
    {
     "name": "stdout",
     "output_type": "stream",
     "text": [
      "{'workclass': [' Private', ' Self-emp-not-inc', ' State-gov', ' Local-gov', ' Self-emp-inc', ' Federal-gov', ' Without-pay'], 'education_num': [7.0, 10.0, 9.0, 14.0, 8.0, 13.0, 11.0, 12.0, 5.0, 4.0, 6.0, 15.0, 3.0, 16.0, 2.0, 1.0], 'marital_status': [' Never-married', ' Married-civ-spouse', ' Divorced', ' Widowed', ' Separated', ' Married-spouse-absent', ' Married-AF-spouse'], 'occupation': [' Sales', ' Craft-repair', ' Handlers-cleaners', ' Adm-clerical', ' Farming-fishing', ' Exec-managerial', ' Other-service', ' Machine-op-inspct', ' Prof-specialty', ' Tech-support', ' Transport-moving', ' Protective-serv', ' Priv-house-serv', ' Armed-Forces'], 'relationship': [' Unmarried', ' Husband', ' Not-in-family', ' Own-child', ' Other-relative', ' Wife'], 'asset_code': [1.0, 4.0, 2.0, 19.0, nan]}\n"
     ]
    }
   ],
   "source": [
    "print(categorical_column_unique_values)"
   ]
  },
  {
   "cell_type": "code",
   "execution_count": 8,
   "id": "8b5b2b5a",
   "metadata": {},
   "outputs": [
    {
     "name": "stdout",
     "output_type": "stream",
     "text": [
      "Predictions Probability for Class 1(Application gets approved): 0.6300031\n"
     ]
    }
   ],
   "source": [
    "json_list = [\n",
    "    {\n",
    "        'capital_gain': 0,\n",
    "        'capital_loss': 0,\n",
    "        'workclass': ' Private',\n",
    "        'education_num': 16,\n",
    "        'marital_status': ' Married-civ-spouse',\n",
    "        'occupation': ' Exec-managerial',\n",
    "        'relationship': ' Husband',\n",
    "        'asset_code': 1,\n",
    "        'capital_profit': 0,\n",
    "        'age_of_applicant': 60\n",
    "    },\n",
    "    {\n",
    "        'capital_gain': 7000,\n",
    "        'capital_loss': 20,\n",
    "        'workclass': ' Local-gov',\n",
    "        'education_num': 7,\n",
    "        'marital_status': ' Never-married',\n",
    "        'occupation': ' Transport-moving',\n",
    "        'relationship': ' Unmarried',\n",
    "        'asset_code': 2,\n",
    "        'capital_profit': 7000,\n",
    "        'age_of_applicant': 28\n",
    "    }\n",
    "]\n",
    "\n",
    "predictions = predict(json_list)\n",
    "print('Predictions Probability for Class 1(Application gets approved):', predictions[1])\n"
   ]
  },
  {
   "cell_type": "code",
   "execution_count": null,
   "id": "61162d50",
   "metadata": {},
   "outputs": [],
   "source": []
  },
  {
   "cell_type": "code",
   "execution_count": null,
   "id": "12d1f78f",
   "metadata": {},
   "outputs": [],
   "source": []
  }
 ],
 "metadata": {
  "kernelspec": {
   "display_name": "Python 3 (ipykernel)",
   "language": "python",
   "name": "python3"
  },
  "language_info": {
   "codemirror_mode": {
    "name": "ipython",
    "version": 3
   },
   "file_extension": ".py",
   "mimetype": "text/x-python",
   "name": "python",
   "nbconvert_exporter": "python",
   "pygments_lexer": "ipython3",
   "version": "3.11.5"
  }
 },
 "nbformat": 4,
 "nbformat_minor": 5
}
